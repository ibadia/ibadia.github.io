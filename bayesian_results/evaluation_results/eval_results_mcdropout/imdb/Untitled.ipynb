{
 "cells": [
  {
   "cell_type": "code",
   "execution_count": 10,
   "metadata": {},
   "outputs": [],
   "source": [
    "import os\n",
    "import shutil\n",
    "path=os.getcwd()\n",
    "all_folders=os.listdir(os.getcwd())\n",
    "all_folders=all_folders[1:-1]"
   ]
  },
  {
   "cell_type": "code",
   "execution_count": 16,
   "metadata": {},
   "outputs": [
    {
     "ename": "SyntaxError",
     "evalue": "unexpected EOF while parsing (<ipython-input-16-293ce4b6c696>, line 1)",
     "output_type": "error",
     "traceback": [
      "\u001b[0;36m  File \u001b[0;32m\"<ipython-input-16-293ce4b6c696>\"\u001b[0;36m, line \u001b[0;32m1\u001b[0m\n\u001b[0;31m    help(shutil.move\u001b[0m\n\u001b[0m                    ^\u001b[0m\n\u001b[0;31mSyntaxError\u001b[0m\u001b[0;31m:\u001b[0m unexpected EOF while parsing\n"
     ]
    }
   ],
   "source": [
    "help(shutil.move\n"
   ]
  },
  {
   "cell_type": "code",
   "execution_count": 20,
   "metadata": {},
   "outputs": [
    {
     "name": "stdout",
     "output_type": "stream",
     "text": [
      "dropout_20\n",
      "problemo\n",
      "dropout_90\n",
      "problemo\n",
      "dropout_40\n",
      "problemo\n",
      "dropout_50\n",
      "problemo\n",
      "dropout_80\n",
      "problemo\n",
      "dropout_30\n",
      "problemo\n",
      "dropout_60\n",
      "problemo\n",
      "dropout_70\n",
      "problemo\n",
      "dropout_10\n",
      "problemo\n"
     ]
    }
   ],
   "source": [
    "for x in all_folders:\n",
    "    full_path=os.getcwd()+\"/\"+x\n",
    "    all_files=os.listdir(full_path)\n",
    "    try:\n",
    "        \n",
    "        os.makedirs(full_path+\"/\"+\"adversary\")\n",
    "        os.makedirs(full_path+\"/\"+\"gradVsAtt\")\n",
    "        os.makedirs(full_path+\"/\"+\"permute\")\n",
    "    except:\n",
    "        print (x)\n",
    "        \n",
    "        print (\"problemo\")\n",
    "    for y in all_files:\n",
    "        if y.find(\"gradVloo\")!=-1 or y.find(\"gradVatt\")!=-1 or y.find(\"looVatt\")!=-1:\n",
    "            shutil.move(full_path+\"/\"+y, full_path+\"/\"+\"gradVsAtt/\")\n",
    "        if y.find(\"premute\")!=-1:\n",
    "            shutil.move(full_path+\"/\"+y, full_path+\"/\"+\"permute/\")\n",
    "        if y.find(\"adversary\")!=-1:\n",
    "            shutil.move(full_path+\"/\"+y, full_path+\"/\"+\"adversary/\")"
   ]
  },
  {
   "cell_type": "code",
   "execution_count": null,
   "metadata": {},
   "outputs": [],
   "source": []
  }
 ],
 "metadata": {
  "kernelspec": {
   "display_name": "Python 3",
   "language": "python",
   "name": "python3"
  },
  "language_info": {
   "codemirror_mode": {
    "name": "ipython",
    "version": 3
   },
   "file_extension": ".py",
   "mimetype": "text/x-python",
   "name": "python",
   "nbconvert_exporter": "python",
   "pygments_lexer": "ipython3",
   "version": "3.7.4"
  }
 },
 "nbformat": 4,
 "nbformat_minor": 2
}
